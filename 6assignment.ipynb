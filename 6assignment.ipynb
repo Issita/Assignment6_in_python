{
 "cells": [
  {
   "cell_type": "code",
   "execution_count": 1,
   "id": "820e9ebd-4999-4255-b9b3-63821411bd37",
   "metadata": {},
   "outputs": [],
   "source": [
    "#Q1. Create a function which will take a list as an argument and return the product of all the numbers\n",
    "#after creating a flat list.\n",
    "\n",
    "#Use the below-given list as an argument for your function.\n",
    "\n",
    "\n",
    "#list1 = [1,2,3,4, [44,55,66, True], False, (34,56,78,89,34), {1,2,3,3,2,1}, {1:34, \"key2\": [55, 67, 78, 89], 4: (45,\n",
    "#22, 61, 34)}, [56, 'data science'], 'Machine Learning']\n",
    "\n"
   ]
  },
  {
   "cell_type": "code",
   "execution_count": 55,
   "id": "e001d50e-8f77-427f-883d-fea47ab974a2",
   "metadata": {},
   "outputs": [
    {
     "name": "stdout",
     "output_type": "stream",
     "text": [
      "[1, 2, 3, 4, 44, 55, 66, 34, 56, 78, 89, 34, 1, 2, 3, 1, 34, 'key2', 55, 67, 78, 89, 4, 45, 22, 61, 34, 56]\n"
     ]
    }
   ],
   "source": [
    "list1 = [1,2,3,4, [44,55,66, True], False, (34,56,78,89,34), {1,2,3,3,2,1}, {1:34, \"key2\": [55, 67, 78, 89], 4: (45, 22, 61, 34)}, [56, 'data science'], 'Machine Learning']\n",
    "\n",
    "def num_list(lst):\n",
    "    new_list = []\n",
    "    for i in lst:\n",
    "        if type(i) == int :\n",
    "            new_list.append(i)\n",
    "        elif type(i) == list or type(i) == set or type(i) == tuple:\n",
    "            for j in i:\n",
    "                if type(j) == int:\n",
    "                    new_list.append(j)\n",
    "                \n",
    "        elif type(i) == dict:\n",
    "            for k in i.items():\n",
    "                new_list.append(k[0]) \n",
    "                if type(k[1]) == int :\n",
    "                    new_list.append(k[1])\n",
    "                ntelse:\n",
    "                    for l in k[1]:\n",
    "                        new_list.append(l)\n",
    "\n",
    "    return new_list\n",
    "\n",
    "a = num_list(list1)\n",
    "print(a)"
   ]
  },
  {
   "cell_type": "code",
   "execution_count": 32,
   "id": "07044028-c6b2-4679-8e19-51a1a2af6bb9",
   "metadata": {},
   "outputs": [
    {
     "data": {
      "text/plain": [
       "[1,\n",
       " 2,\n",
       " 3,\n",
       " 4,\n",
       " [44, 55, 66, True],\n",
       " False,\n",
       " (34, 56, 78, 89, 34),\n",
       " {1, 2, 3},\n",
       " {1: 34, 'key2': [55, 67, 78, 89], 4: (45, 22, 61, 34)},\n",
       " [56, 'data science'],\n",
       " 'Machine Learning']"
      ]
     },
     "execution_count": 3,
     "metadata": {},
     "output_type": "execute_result"
    }
   ],
   "source": [
    "list1\n"
   ]
  },
  {
   "cell_type": "code",
   "execution_count": 11,
   "id": "d728ef39-e08f-4cd0-ad46-a32b7e4ffe27",
   "metadata": {},
   "outputs": [
    {
     "name": "stdout",
     "output_type": "stream",
     "text": [
      "[1, 2, 3, 4, 44, 55, 66, 34, 56, 78, 89, 34, 1, 2, 3, 1, 4, 56]\n"
     ]
    }
   ],
   "source": [
    "l=[]\n",
    "for i in list1:\n",
    "    if type(i)==int:\n",
    "        l.append(i)\n",
    "    elif type(i)==list or type(i)==tuple or type(i)==set :\n",
    "        for j in i:\n",
    "            if type(j)==int:\n",
    "                l.append(j)\n",
    "    elif type(i)==dict:\n",
    "        for x in i:\n",
    "            if type(x)==int:\n",
    "                l.append(x)\n",
    "print(l)"
   ]
  },
  {
   "cell_type": "code",
   "execution_count": 12,
   "id": "c4cd41b2-5245-479a-b445-85e060f84dca",
   "metadata": {},
   "outputs": [],
   "source": [
    "#Q2. Write a python program for encrypting a message sent to you by your friend. The logic of encryption\n",
    "#should be such that, for a the output should be z. For b, the output should be y. For c, the output should\n",
    "#be x respectively. Also, the whitespace should be replaced with a dollar sign. Keep the punctuation\n",
    "#marks unchanged.\n",
    "\n",
    "\n",
    "#Input Sentence: I want to become a Data Scientist.\n",
    "\n",
    "\n",
    "# Encrypt the above input sentence using the program you just created.\n",
    "\n"
   ]
  },
  {
   "cell_type": "code",
   "execution_count": null,
   "id": "5c864400-a779-4f76-a915-1fdb94122fb0",
   "metadata": {},
   "outputs": [],
   "source": [
    "def encryption(n):\n",
    "    l1={\" \":\"$\",\"a\":\"z\",\"b\":\"y\",\"c\":\"x\",\"d\":\"w\",\"e\":\"v\",\"f\":\"u\",\"g\":\"t\",\"h\":\"s\",\"i\":\"r\",\"j\":\"q\",\"k\":\"p\",\"l\":\"o\",\"m\":\"n\",\"n\":\"m\",\"o\":\"l\",\"p\":\"k\",\"q\":\"j\",\"r\":\"i\",\"s\":\"h\",\"t\":\"g\",\"u\":\"f\",\"v\":\"e\",\"w\":\"d\",\"x\":\"c\",\"y\":\"b\",\"z\":\"a\",\".\":\".\"}\n",
    "    new=[]\n",
    "    for i in n:\n",
    "        for k,v in l1.items():\n",
    "            if i == k:\n",
    "                new.append(v)\n",
    "    result=''.join(new)\n",
    "    print(result)\n",
    "\n",
    "s=input(\"enter your string: \")\n",
    "encryption(list(s.lower()))"
   ]
  },
  {
   "cell_type": "code",
   "execution_count": null,
   "id": "76595635-1836-4b67-943a-b2ad2c0703bb",
   "metadata": {},
   "outputs": [
    {
     "name": "stdout",
     "output_type": "stream",
     "text": [
      "[34]\n"
     ]
    }
   ],
   "source": [
    "my_dict = {1: 34, 'key2': [55, 67, 78, 89], 4: (45, 22, 61, 34)} \n",
    "integer_numbers = [] \n",
    "for value in my_dict.values(): \n",
    "    if type(value) == int: \n",
    "        integer_numbers.append(value) \n",
    "        print(integer_numbers)"
   ]
  },
  {
   "cell_type": "code",
   "execution_count": null,
   "id": "1bdb4504-cf16-4066-9f3d-89eb130cebb6",
   "metadata": {},
   "outputs": [
    {
     "ename": "AttributeError",
     "evalue": "'list' object has no attribute 'items'",
     "output_type": "error",
     "traceback": [
      "\u001b[0;31m---------------------------------------------------------------------------\u001b[0m",
      "\u001b[0;31mAttributeError\u001b[0m                            Traceback (most recent call last)",
      "Cell \u001b[0;32mIn[59], line 25\u001b[0m\n\u001b[1;32m     22\u001b[0m             \u001b[38;5;28mprint\u001b[39m(integers)           \n\u001b[1;32m     23\u001b[0m     \u001b[38;5;28;01mreturn\u001b[39;00m new_list\n\u001b[0;32m---> 25\u001b[0m a \u001b[38;5;241m=\u001b[39m \u001b[43mnum_list\u001b[49m\u001b[43m(\u001b[49m\u001b[43mlist1\u001b[49m\u001b[43m)\u001b[49m\n\u001b[1;32m     26\u001b[0m \u001b[38;5;28mprint\u001b[39m(a)\n",
      "Cell \u001b[0;32mIn[59], line 15\u001b[0m, in \u001b[0;36mnum_list\u001b[0;34m(lst)\u001b[0m\n\u001b[1;32m     12\u001b[0m             new_list\u001b[38;5;241m.\u001b[39mappend(j)\n\u001b[1;32m     14\u001b[0m \u001b[38;5;28;01melif\u001b[39;00m \u001b[38;5;28mtype\u001b[39m(i) \u001b[38;5;241m==\u001b[39m \u001b[38;5;28mdict\u001b[39m:\n\u001b[0;32m---> 15\u001b[0m     \u001b[38;5;28;01mfor\u001b[39;00m k,v \u001b[38;5;129;01min\u001b[39;00m \u001b[43mlst\u001b[49m\u001b[38;5;241;43m.\u001b[39;49m\u001b[43mitems\u001b[49m():\n\u001b[1;32m     16\u001b[0m         \u001b[38;5;28;01mif\u001b[39;00m \u001b[38;5;28misinstance\u001b[39m(v,\u001b[38;5;28mint\u001b[39m):\n\u001b[1;32m     17\u001b[0m             integers\u001b[38;5;241m.\u001b[39mappend(v)\n",
      "\u001b[0;31mAttributeError\u001b[0m: 'list' object has no attribute 'items'"
     ]
    }
   ],
   "source": [
    "list1 = [1,2,3,4, [44,55,66, True], False, (34,56,78,89,34), {1,2,3,3,2,1}, {1:34, \"key2\": [55, 67, 78, 89], 4: (45, 22, 61, 34)}, [56, 'data science'], 'Machine Learning']\n",
    "\n",
    "def num_list(lst):\n",
    "    new_list = []\n",
    "    integers = []\n",
    "    for i in lst:\n",
    "        if type(i) == int :\n",
    "            new_list.append(i)\n",
    "        elif type(i) == list or type(i) == set or type(i) == tuple:\n",
    "            for j in i:\n",
    "                if type(j) == int:\n",
    "                    new_list.append(j)\n",
    "                \n",
    "        elif type(i) == dict:\n",
    "            for k,v in list1.items():\n",
    "                if isinstance(v,int):\n",
    "                    integers.append(v)\n",
    "                elif isinstance(v,(tuple,list)):\n",
    "                    for num in v:\n",
    "                        if isinstance(num,int):\n",
    "                            integers.append(num)\n",
    "            print(integers)           \n",
    "    return new_list\n",
    "\n",
    "a = num_list(list1)\n",
    "print(a)"
   ]
  },
  {
   "cell_type": "code",
   "execution_count": 91,
   "id": "120665a0-20cb-4b73-8558-275ad4ff9cca",
   "metadata": {},
   "outputs": [
    {
     "ename": "TypeError",
     "evalue": "isinstance() arg 2 must be a type, a tuple of types, or a union",
     "output_type": "error",
     "traceback": [
      "\u001b[0;31m---------------------------------------------------------------------------\u001b[0m",
      "\u001b[0;31mTypeError\u001b[0m                                 Traceback (most recent call last)",
      "Cell \u001b[0;32mIn[98], line 9\u001b[0m\n\u001b[1;32m      7\u001b[0m \u001b[38;5;28;01mif\u001b[39;00m \u001b[38;5;28misinstance\u001b[39m(k, \u001b[38;5;28mint\u001b[39m):\n\u001b[1;32m      8\u001b[0m     integers\u001b[38;5;241m.\u001b[39mappend(k)\n\u001b[0;32m----> 9\u001b[0m \u001b[38;5;28;01melif\u001b[39;00m \u001b[38;5;28;43misinstance\u001b[39;49m\u001b[43m(\u001b[49m\u001b[43mk\u001b[49m\u001b[43m,\u001b[49m\u001b[38;5;28;43mlist\u001b[39;49m\u001b[43m)\u001b[49m:\n\u001b[1;32m     10\u001b[0m     \u001b[38;5;28;01mfor\u001b[39;00m num \u001b[38;5;129;01min\u001b[39;00m k:\n\u001b[1;32m     11\u001b[0m         integers\u001b[38;5;241m.\u001b[39mappend(k)\n",
      "\u001b[0;31mTypeError\u001b[0m: isinstance() arg 2 must be a type, a tuple of types, or a union"
     ]
    }
   ],
   "source": [
    "list = {1: 34, 'key2': [55, 67, 78, 89], 4: (45, 22, 61, 34)}\n",
    "integers = []\n",
    "for k,v in list.items():\n",
    "    if isinstance(v,int):\n",
    "        integers.append(v)\n",
    "    \n",
    "    if isinstance(k, int):\n",
    "        integers.append(k)\n",
    "    elif isinstance(k,(list,tuple)):\n",
    "        for num in k:\n",
    "            if isinstance (int, k):\n",
    "                integers.append(k)\n",
    "print(integers)   "
   ]
  },
  {
   "cell_type": "code",
   "execution_count": null,
   "id": "272c349d-45a7-406a-a251-cd23adff48b6",
   "metadata": {},
   "outputs": [],
   "source": []
  },
  {
   "cell_type": "code",
   "execution_count": null,
   "id": "83aba932-cb63-4cdd-a82a-9d7181f06cca",
   "metadata": {},
   "outputs": [],
   "source": [
    "\n"
   ]
  }
 ],
 "metadata": {
  "kernelspec": {
   "display_name": "Python 3 (ipykernel)",
   "language": "python",
   "name": "python3"
  },
  "language_info": {
   "codemirror_mode": {
    "name": "ipython",
    "version": 3
   },
   "file_extension": ".py",
   "mimetype": "text/x-python",
   "name": "python",
   "nbconvert_exporter": "python",
   "pygments_lexer": "ipython3",
   "version": "3.10.8"
  }
 },
 "nbformat": 4,
 "nbformat_minor": 5
}
