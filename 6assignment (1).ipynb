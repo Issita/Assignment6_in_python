{
 "cells": [
  {
   "cell_type": "code",
   "execution_count": 20,
   "id": "820e9ebd-4999-4255-b9b3-63821411bd37",
   "metadata": {},
   "outputs": [],
   "source": [
    "#Q1. Create a function which will take a list as an argument and return the product of all the numbers\n",
    "#after creating a flat list.\n",
    "\n",
    "#Use the below-given list as an argument for your function.\n",
    "\n",
    "\n",
    "#list1 = [1,2,3,4, [44,55,66, True], False, (34,56,78,89,34), {1,2,3,3,2,1}, {1:34, \"key2\": [55, 67, 78, 89], 4: (45,\n",
    "#22, 61, 34)}, [56, 'data science'], 'Machine Learning']\n",
    "\n",
    "\n"
   ]
  },
  {
   "cell_type": "code",
   "execution_count": 26,
   "id": "e001d50e-8f77-427f-883d-fea47ab974a2",
   "metadata": {},
   "outputs": [
    {
     "name": "stdout",
     "output_type": "stream",
     "text": [
      "[1, 2, 3, 4, 44, 55, 66, 34, 56, 78, 89, 34, 1, 2, 3, 1, 34, 'key2', 55, 67, 78, 89, 4, 45, 22, 61, 34, 56]\n"
     ]
    }
   ],
   "source": [
    "list1 = [1,2,3,4, [44,55,66, True], False, (34,56,78,89,34), {1,2,3,3,2,1}, {1:34, \"key2\": [55, 67, 78, 89], 4: (45, 22, 61, 34)}, [56, 'data science'], 'Machine Learning']\n",
    "\n",
    "def num_list(lst):\n",
    "    new_list = []\n",
    "    for i in lst:\n",
    "        if type(i) == int :\n",
    "            new_list.append(i)\n",
    "        elif type(i) == list or type(i) == set or type(i) == tuple:\n",
    "            for j in i:\n",
    "                if type(j) == int:\n",
    "                    new_list.append(j)\n",
    "                \n",
    "        elif type(i) == dict:\n",
    "            for k in i.items():\n",
    "                new_list.append(k[0]) \n",
    "                if type(k[1]) == int :\n",
    "                    new_list.append(k[1])\n",
    "                else:\n",
    "                    for l in k[1]:\n",
    "                        new_list.append(l)\n",
    "\n",
    "    return new_list\n",
    "\n",
    "a = num_list(list1)\n",
    "print(a)"
   ]
  },
  {
   "cell_type": "code",
   "execution_count": 22,
   "id": "07044028-c6b2-4679-8e19-51a1a2af6bb9",
   "metadata": {},
   "outputs": [
    {
     "data": {
      "text/plain": [
       "[1,\n",
       " 2,\n",
       " 3,\n",
       " 4,\n",
       " [44, 55, 66, True],\n",
       " False,\n",
       " (34, 56, 78, 89, 34),\n",
       " {1, 2, 3},\n",
       " {1: 34, 'key2': [55, 67, 78, 89], 4: (45, 22, 61, 34)},\n",
       " [56, 'data science'],\n",
       " 'Machine Learning']"
      ]
     },
     "execution_count": 22,
     "metadata": {},
     "output_type": "execute_result"
    }
   ],
   "source": [
    "list1\n"
   ]
  },
  {
   "cell_type": "code",
   "execution_count": 23,
   "id": "d728ef39-e08f-4cd0-ad46-a32b7e4ffe27",
   "metadata": {},
   "outputs": [
    {
     "name": "stdout",
     "output_type": "stream",
     "text": [
      "[1, 2, 3, 4, 44, 55, 66, 34, 56, 78, 89, 34, 1, 2, 3, 1, 4, 56]\n"
     ]
    }
   ],
   "source": [
    "l=[]\n",
    "for i in list1:\n",
    "    if type(i)==int:\n",
    "        l.append(i)\n",
    "    elif type(i)==list or type(i)==tuple or type(i)==set :\n",
    "        for j in i:\n",
    "            if type(j)==int:\n",
    "                l.append(j)\n",
    "    elif type(i)==dict:\n",
    "        for x in i:\n",
    "            if type(x)==int:\n",
    "                l.append(x)\n",
    "print(l)"
   ]
  },
  {
   "cell_type": "code",
   "execution_count": 24,
   "id": "c4cd41b2-5245-479a-b445-85e060f84dca",
   "metadata": {},
   "outputs": [],
   "source": [
    "#Q2. Write a python program for encrypting a message sent to you by your friend. The logic of encryption\n",
    "#should be such that, for a the output should be z. For b, the output should be y. For c, the output should\n",
    "#be x respectively. Also, the whitespace should be replaced with a dollar sign. Keep the punctuation\n",
    "#marks unchanged.\n",
    "\n",
    "\n",
    "#Input Sentence: I want to become a Data Scientist.\n",
    "\n",
    "\n",
    "# Encrypt the above input sentence using the program you just created.\n",
    "\n"
   ]
  },
  {
   "cell_type": "code",
   "execution_count": 25,
   "id": "5c864400-a779-4f76-a915-1fdb94122fb0",
   "metadata": {},
   "outputs": [
    {
     "name": "stdin",
     "output_type": "stream",
     "text": [
      "enter your string:  I want to become a Data Scientist.\n"
     ]
    },
    {
     "name": "stdout",
     "output_type": "stream",
     "text": [
      "r$dzmg$gl$yvxlnv$z$wzgz$hxrvmgrhg.\n"
     ]
    }
   ],
   "source": [
    "def encryption(n):\n",
    "    l1={\" \":\"$\",\"a\":\"z\",\"b\":\"y\",\"c\":\"x\",\"d\":\"w\",\"e\":\"v\",\"f\":\"u\",\"g\":\"t\",\"h\":\"s\",\"i\":\"r\",\"j\":\"q\",\"k\":\"p\",\"l\":\"o\",\"m\":\"n\",\"n\":\"m\",\"o\":\"l\",\"p\":\"k\",\"q\":\"j\",\"r\":\"i\",\"s\":\"h\",\"t\":\"g\",\"u\":\"f\",\"v\":\"e\",\"w\":\"d\",\"x\":\"c\",\"y\":\"b\",\"z\":\"a\",\".\":\".\"}\n",
    "    new=[]\n",
    "    for i in n:\n",
    "        for k,v in l1.items():\n",
    "            if i == k:\n",
    "                new.append(v)\n",
    "    result=''.join(new)\n",
    "    print(result)\n",
    "\n",
    "s=input(\"enter your string: \")\n",
    "encryption(list(s.lower()))"
   ]
  },
  {
   "cell_type": "code",
   "execution_count": null,
   "id": "86d182d8-f8d2-4db6-b4a4-6f5e9e02d32b",
   "metadata": {},
   "outputs": [],
   "source": []
  }
 ],
 "metadata": {
  "kernelspec": {
   "display_name": "Python 3 (ipykernel)",
   "language": "python",
   "name": "python3"
  },
  "language_info": {
   "codemirror_mode": {
    "name": "ipython",
    "version": 3
   },
   "file_extension": ".py",
   "mimetype": "text/x-python",
   "name": "python",
   "nbconvert_exporter": "python",
   "pygments_lexer": "ipython3",
   "version": "3.10.8"
  }
 },
 "nbformat": 4,
 "nbformat_minor": 5
}
